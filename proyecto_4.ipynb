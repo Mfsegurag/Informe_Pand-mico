{
 "cells": [
  {
   "cell_type": "markdown",
   "metadata": {
    "id": "a4KP0Qf-N_C6"
   },
   "source": [
    "# Modelando la Pandemia\n",
    "\n",
    "  En este proyecto vamos a estudiar y analizar los datos mundiales de la pandemia COVID-19 usando países modelo de distintas políticas públicas para luego interpretar otras curvas.\n",
    "\n",
    "Puedes descargar el dataset de casos totales, divididos por país [aquí.](\n",
    "https://ourworldindata.org/coronavirus-data?country=\n",
    ") Descarga los datos  formato .csv luego podrás cargarlos en el notebook usando pandas, a partir de eso selecciona los de los países que te interesan, hay un ejemplo de cómo se hace esto en este notebook. \n",
    "\n",
    "# ¿Cómo empezó la pandemia?\n",
    "\n",
    "\n",
    "  La primer parte del trabajo consiste en estudiar cómo se empieza a propagar la pandemia, luego analizaremos las medidas tomadas y su efectividad.\n",
    "\n",
    "  Al inicio de una pandemia, se estima que los contagios siguen una ley exponencial, esa es la fase de \"crecimiento exponencial\", luego hay un decaimiento dado por la inmunidad. \n",
    "\n",
    "  Los datos de casos confirmados en función del tiempo $C(t)$, pueden aproximarse con el modelo\n",
    "\n",
    "$C(t)=e^{k(t-t_0)}$\n",
    "\n",
    "donde $t_0$ es la fecha del primer contagio, y $k$ es un parámetro propio de cada enfermedad, que habla de la contagiosidad. Cuanto mayor es $k$, más grande será el número de casos confirmados dado por la expresión. $k$ depende de el tiempo que una persona enferma contagia, el nivel de infecciosidad del virus y cuántas personas que se pueden contagiar ve una persona enferma por día. Es decir, la circulación. Haciendo cuarententa, $k$ disminuye, con la circulación $k$ aumenta.\n",
    "\n",
    "  El parámetro $k$ está directamente relacionado con el $R$ del que tanto se habla en los medios. En este proyecto haremos foco en $k$, pero puedes profundizar sobre esto si quieres, empezandó por [aquí](https://es.wikipedia.org/wiki/Ritmo_reproductivo_b%C3%A1sico). \n",
    "\n",
    "  Es posible hacer un modelo completo, pero para eso es necesario utilizar ecuaciones diferenciales. Si quieres profundizar sobre eso, busca información sobre \"modelo epidemiológico SEIR\". Si quieres ver cómo funciona este modelo, puedes empezar por [aquí](http://gabgoh.github.io/COVID/index.html). En ese link está implementado el modelo SEIR (no es necesario entender las ecuaciones en este caso) y el rol que cumplen los parámetros, puedes explorar el impacto de variar $R$ y el resto de los valores para ver cómo impactan en la cirva de contagios. Ahora utilizaremos la siguiente expresión para describir únicamente la etapa de crecimiento exponencial.\n",
    "\n",
    "\n",
    "  Comienza estudiando cómo se distribuyó el $k$ inicial de la pandemia y si es posible elaborar un intervalo de confianza razonable para este valor. Para eso \n",
    "  \n",
    "  1. Elegir diez países del norte (ahí empezó la pandemia) y puedes mide el valor de $k$ inicial de la pandemia, analizando datos del primer tramo.\n",
    "\n",
    "  2. Analiza si es posible estimar la evolución mundial de la pandemia a partir de lo que obtuviste. Para esto, puedes elaborar un intervalo de confianza para $k$ a partir de los que obtuviste y así generar un modelo nuevo, basado en la distribución de $k$. Luego compara el modelo con los datos mundiales.\n",
    "\n",
    "3. Piensa qué significa que el modelo de \"bien\" o dé \"mal\" ¿qué indicadores de esto existen?. Luego discute en el informe por qué crees que dio así. Recuerda que es importante elegir bien la población de muestra. Piensa qué criterios puedes elegir para representar bien la población mundial que se contagió al inicio de la pandemia.\n",
    " \n",
    " # Evaluando estrategias\n",
    "\n",
    " Ahora que tienes una manera de obtener información de las curvas, puedes intentar evaluar las estrategias de acción y el comportamiento de las poblaciones, construyendo un clasificador binario. \n",
    "1. Elige una categoría binaria que hable de políticas públicas elegidas por los países para enfrentar la pandemia que te interese estudiar, como pueden ser \"la población hizo cuarententa\" o \"la población se vacunó\".\n",
    "2. Piensa qué indicadores de la curva pueden hablar del éxito de la política que quieres estudiar. Por ejemplo, si se tratase de evaluar el éxito de una cuarentena podría ser porcentaje de población  que se contagió o variación del valor de $k$ a partir de que se empezó a implementar esa medida. Elige al menos 3 indicadores.\n",
    "3. Investiga sobre países que hayan aplicado o no esa política pública, para generar una base de datos. Por ejemplo, Brasil no hizo cuarentena y China hizo una muy estricta. Recuerda hacer una selección inteligente de la porción de datos de la curva de cada país que vas a analizar.\n",
    "4. Construye un clasificador binario a partir de una regresión logística o usando Naive Bayes para intentar analizar la estrategia de otros países y ver si es posible predecirla a partir de la curva de contagios y el clasificador. Un posible clasificador binario es uno que clasifique el porcentaje de contagios en función da las categorías \"la población hizo cuarentena\" y \"la población n hizo cuarentena\". Haz esto para los 3 indicadores que elegiste en el punto 3 y compara los resultados.\n",
    "5. Elabora un informe con lo que hayas aprendido a lo largo de este proyecto, donde discutas la utilidad o no de los indicadores que elegiste y del análisis estadístico propuesto.\n",
    "\n",
    "#¡Comencemos!\n",
    "\n",
    "  A continuación dejamos un ejemplo de cómo extraer el $k$ inicial de Argentina, usando un ajuste de cuadrados mínimos. Si necesitas los datos mundiales, en la columna de países aparecen como \"World\".\n",
    "\n"
   ]
  },
  {
   "cell_type": "code",
   "execution_count": 2,
   "metadata": {
    "ExecuteTime": {
     "end_time": "2022-03-03T22:47:13.425682Z",
     "start_time": "2022-03-03T22:47:12.913128Z"
    },
    "id": "EeoJPP0uVEdB"
   },
   "outputs": [],
   "source": [
    "import numpy as np\n",
    "import pandas as pd\n",
    "import pylab as plt\n",
    "import os\n",
    "#from google.colab import drive\n",
    "from scipy.optimize import curve_fit"
   ]
  },
  {
   "cell_type": "code",
   "execution_count": 3,
   "metadata": {
    "ExecuteTime": {
     "end_time": "2022-03-03T22:47:13.648756Z",
     "start_time": "2022-03-03T22:47:13.641748Z"
    },
    "colab": {
     "base_uri": "https://localhost:8080/"
    },
    "id": "aR3RjqhnVLRB",
    "outputId": "e843ee29-a24c-4844-bbd0-2d57f62822a9"
   },
   "outputs": [],
   "source": [
    "# cargamos los datos para drive\n",
    "\n",
    "#drive.mount('/content/gdrive', force_remount=True)\n",
    "\n",
    "# Aca deben apuntar a la carpeta de su drive donde guardaron los datos\n",
    "#root_dir = \"/content/gdrive/My Drive/datos_acamica\"\n"
   ]
  },
  {
   "cell_type": "code",
   "execution_count": 4,
   "metadata": {
    "ExecuteTime": {
     "end_time": "2022-03-03T22:47:14.273626Z",
     "start_time": "2022-03-03T22:47:14.265647Z"
    }
   },
   "outputs": [
    {
     "data": {
      "text/plain": [
       "['contagios_covid_data.csv']"
      ]
     },
     "execution_count": 4,
     "metadata": {},
     "output_type": "execute_result"
    }
   ],
   "source": [
    "os.listdir('data')"
   ]
  },
  {
   "cell_type": "code",
   "execution_count": 5,
   "metadata": {
    "ExecuteTime": {
     "end_time": "2022-03-03T22:47:15.548790Z",
     "start_time": "2022-03-03T22:47:15.090675Z"
    },
    "colab": {
     "base_uri": "https://localhost:8080/",
     "height": 424
    },
    "id": "xvuX_32HXxK0",
    "outputId": "39742517-30e2-4d78-cba0-78a57ca57a07",
    "scrolled": false
   },
   "outputs": [
    {
     "data": {
      "text/html": [
       "<div>\n",
       "<style scoped>\n",
       "    .dataframe tbody tr th:only-of-type {\n",
       "        vertical-align: middle;\n",
       "    }\n",
       "\n",
       "    .dataframe tbody tr th {\n",
       "        vertical-align: top;\n",
       "    }\n",
       "\n",
       "    .dataframe thead th {\n",
       "        text-align: right;\n",
       "    }\n",
       "</style>\n",
       "<table border=\"1\" class=\"dataframe\">\n",
       "  <thead>\n",
       "    <tr style=\"text-align: right;\">\n",
       "      <th></th>\n",
       "      <th>iso_code</th>\n",
       "      <th>continent</th>\n",
       "      <th>location</th>\n",
       "      <th>date</th>\n",
       "      <th>total_cases</th>\n",
       "      <th>new_cases</th>\n",
       "      <th>new_cases_smoothed</th>\n",
       "      <th>total_deaths</th>\n",
       "      <th>new_deaths</th>\n",
       "      <th>new_deaths_smoothed</th>\n",
       "      <th>...</th>\n",
       "      <th>female_smokers</th>\n",
       "      <th>male_smokers</th>\n",
       "      <th>handwashing_facilities</th>\n",
       "      <th>hospital_beds_per_thousand</th>\n",
       "      <th>life_expectancy</th>\n",
       "      <th>human_development_index</th>\n",
       "      <th>excess_mortality_cumulative_absolute</th>\n",
       "      <th>excess_mortality_cumulative</th>\n",
       "      <th>excess_mortality</th>\n",
       "      <th>excess_mortality_cumulative_per_million</th>\n",
       "    </tr>\n",
       "  </thead>\n",
       "  <tbody>\n",
       "    <tr>\n",
       "      <th>0</th>\n",
       "      <td>AFG</td>\n",
       "      <td>Asia</td>\n",
       "      <td>Afghanistan</td>\n",
       "      <td>2020-02-24</td>\n",
       "      <td>5.0</td>\n",
       "      <td>5.0</td>\n",
       "      <td>NaN</td>\n",
       "      <td>NaN</td>\n",
       "      <td>NaN</td>\n",
       "      <td>NaN</td>\n",
       "      <td>...</td>\n",
       "      <td>NaN</td>\n",
       "      <td>NaN</td>\n",
       "      <td>37.746</td>\n",
       "      <td>0.5</td>\n",
       "      <td>64.83</td>\n",
       "      <td>0.511</td>\n",
       "      <td>NaN</td>\n",
       "      <td>NaN</td>\n",
       "      <td>NaN</td>\n",
       "      <td>NaN</td>\n",
       "    </tr>\n",
       "    <tr>\n",
       "      <th>1</th>\n",
       "      <td>AFG</td>\n",
       "      <td>Asia</td>\n",
       "      <td>Afghanistan</td>\n",
       "      <td>2020-02-25</td>\n",
       "      <td>5.0</td>\n",
       "      <td>0.0</td>\n",
       "      <td>NaN</td>\n",
       "      <td>NaN</td>\n",
       "      <td>NaN</td>\n",
       "      <td>NaN</td>\n",
       "      <td>...</td>\n",
       "      <td>NaN</td>\n",
       "      <td>NaN</td>\n",
       "      <td>37.746</td>\n",
       "      <td>0.5</td>\n",
       "      <td>64.83</td>\n",
       "      <td>0.511</td>\n",
       "      <td>NaN</td>\n",
       "      <td>NaN</td>\n",
       "      <td>NaN</td>\n",
       "      <td>NaN</td>\n",
       "    </tr>\n",
       "    <tr>\n",
       "      <th>2</th>\n",
       "      <td>AFG</td>\n",
       "      <td>Asia</td>\n",
       "      <td>Afghanistan</td>\n",
       "      <td>2020-02-26</td>\n",
       "      <td>5.0</td>\n",
       "      <td>0.0</td>\n",
       "      <td>NaN</td>\n",
       "      <td>NaN</td>\n",
       "      <td>NaN</td>\n",
       "      <td>NaN</td>\n",
       "      <td>...</td>\n",
       "      <td>NaN</td>\n",
       "      <td>NaN</td>\n",
       "      <td>37.746</td>\n",
       "      <td>0.5</td>\n",
       "      <td>64.83</td>\n",
       "      <td>0.511</td>\n",
       "      <td>NaN</td>\n",
       "      <td>NaN</td>\n",
       "      <td>NaN</td>\n",
       "      <td>NaN</td>\n",
       "    </tr>\n",
       "    <tr>\n",
       "      <th>3</th>\n",
       "      <td>AFG</td>\n",
       "      <td>Asia</td>\n",
       "      <td>Afghanistan</td>\n",
       "      <td>2020-02-27</td>\n",
       "      <td>5.0</td>\n",
       "      <td>0.0</td>\n",
       "      <td>NaN</td>\n",
       "      <td>NaN</td>\n",
       "      <td>NaN</td>\n",
       "      <td>NaN</td>\n",
       "      <td>...</td>\n",
       "      <td>NaN</td>\n",
       "      <td>NaN</td>\n",
       "      <td>37.746</td>\n",
       "      <td>0.5</td>\n",
       "      <td>64.83</td>\n",
       "      <td>0.511</td>\n",
       "      <td>NaN</td>\n",
       "      <td>NaN</td>\n",
       "      <td>NaN</td>\n",
       "      <td>NaN</td>\n",
       "    </tr>\n",
       "    <tr>\n",
       "      <th>4</th>\n",
       "      <td>AFG</td>\n",
       "      <td>Asia</td>\n",
       "      <td>Afghanistan</td>\n",
       "      <td>2020-02-28</td>\n",
       "      <td>5.0</td>\n",
       "      <td>0.0</td>\n",
       "      <td>NaN</td>\n",
       "      <td>NaN</td>\n",
       "      <td>NaN</td>\n",
       "      <td>NaN</td>\n",
       "      <td>...</td>\n",
       "      <td>NaN</td>\n",
       "      <td>NaN</td>\n",
       "      <td>37.746</td>\n",
       "      <td>0.5</td>\n",
       "      <td>64.83</td>\n",
       "      <td>0.511</td>\n",
       "      <td>NaN</td>\n",
       "      <td>NaN</td>\n",
       "      <td>NaN</td>\n",
       "      <td>NaN</td>\n",
       "    </tr>\n",
       "    <tr>\n",
       "      <th>...</th>\n",
       "      <td>...</td>\n",
       "      <td>...</td>\n",
       "      <td>...</td>\n",
       "      <td>...</td>\n",
       "      <td>...</td>\n",
       "      <td>...</td>\n",
       "      <td>...</td>\n",
       "      <td>...</td>\n",
       "      <td>...</td>\n",
       "      <td>...</td>\n",
       "      <td>...</td>\n",
       "      <td>...</td>\n",
       "      <td>...</td>\n",
       "      <td>...</td>\n",
       "      <td>...</td>\n",
       "      <td>...</td>\n",
       "      <td>...</td>\n",
       "      <td>...</td>\n",
       "      <td>...</td>\n",
       "      <td>...</td>\n",
       "      <td>...</td>\n",
       "    </tr>\n",
       "    <tr>\n",
       "      <th>165403</th>\n",
       "      <td>ZWE</td>\n",
       "      <td>Africa</td>\n",
       "      <td>Zimbabwe</td>\n",
       "      <td>2022-02-25</td>\n",
       "      <td>235467.0</td>\n",
       "      <td>500.0</td>\n",
       "      <td>348.143</td>\n",
       "      <td>5392.0</td>\n",
       "      <td>2.0</td>\n",
       "      <td>1.000</td>\n",
       "      <td>...</td>\n",
       "      <td>1.6</td>\n",
       "      <td>30.7</td>\n",
       "      <td>36.791</td>\n",
       "      <td>1.7</td>\n",
       "      <td>61.49</td>\n",
       "      <td>0.571</td>\n",
       "      <td>NaN</td>\n",
       "      <td>NaN</td>\n",
       "      <td>NaN</td>\n",
       "      <td>NaN</td>\n",
       "    </tr>\n",
       "    <tr>\n",
       "      <th>165404</th>\n",
       "      <td>ZWE</td>\n",
       "      <td>Africa</td>\n",
       "      <td>Zimbabwe</td>\n",
       "      <td>2022-02-26</td>\n",
       "      <td>235803.0</td>\n",
       "      <td>336.0</td>\n",
       "      <td>368.429</td>\n",
       "      <td>5393.0</td>\n",
       "      <td>1.0</td>\n",
       "      <td>1.000</td>\n",
       "      <td>...</td>\n",
       "      <td>1.6</td>\n",
       "      <td>30.7</td>\n",
       "      <td>36.791</td>\n",
       "      <td>1.7</td>\n",
       "      <td>61.49</td>\n",
       "      <td>0.571</td>\n",
       "      <td>NaN</td>\n",
       "      <td>NaN</td>\n",
       "      <td>NaN</td>\n",
       "      <td>NaN</td>\n",
       "    </tr>\n",
       "    <tr>\n",
       "      <th>165405</th>\n",
       "      <td>ZWE</td>\n",
       "      <td>Africa</td>\n",
       "      <td>Zimbabwe</td>\n",
       "      <td>2022-02-27</td>\n",
       "      <td>235803.0</td>\n",
       "      <td>0.0</td>\n",
       "      <td>350.143</td>\n",
       "      <td>5393.0</td>\n",
       "      <td>0.0</td>\n",
       "      <td>1.000</td>\n",
       "      <td>...</td>\n",
       "      <td>1.6</td>\n",
       "      <td>30.7</td>\n",
       "      <td>36.791</td>\n",
       "      <td>1.7</td>\n",
       "      <td>61.49</td>\n",
       "      <td>0.571</td>\n",
       "      <td>NaN</td>\n",
       "      <td>NaN</td>\n",
       "      <td>NaN</td>\n",
       "      <td>NaN</td>\n",
       "    </tr>\n",
       "    <tr>\n",
       "      <th>165406</th>\n",
       "      <td>ZWE</td>\n",
       "      <td>Africa</td>\n",
       "      <td>Zimbabwe</td>\n",
       "      <td>2022-02-28</td>\n",
       "      <td>236380.0</td>\n",
       "      <td>577.0</td>\n",
       "      <td>401.286</td>\n",
       "      <td>5395.0</td>\n",
       "      <td>2.0</td>\n",
       "      <td>1.286</td>\n",
       "      <td>...</td>\n",
       "      <td>1.6</td>\n",
       "      <td>30.7</td>\n",
       "      <td>36.791</td>\n",
       "      <td>1.7</td>\n",
       "      <td>61.49</td>\n",
       "      <td>0.571</td>\n",
       "      <td>NaN</td>\n",
       "      <td>NaN</td>\n",
       "      <td>NaN</td>\n",
       "      <td>NaN</td>\n",
       "    </tr>\n",
       "    <tr>\n",
       "      <th>165407</th>\n",
       "      <td>ZWE</td>\n",
       "      <td>Africa</td>\n",
       "      <td>Zimbabwe</td>\n",
       "      <td>2022-03-01</td>\n",
       "      <td>236871.0</td>\n",
       "      <td>491.0</td>\n",
       "      <td>413.000</td>\n",
       "      <td>5395.0</td>\n",
       "      <td>0.0</td>\n",
       "      <td>1.000</td>\n",
       "      <td>...</td>\n",
       "      <td>1.6</td>\n",
       "      <td>30.7</td>\n",
       "      <td>36.791</td>\n",
       "      <td>1.7</td>\n",
       "      <td>61.49</td>\n",
       "      <td>0.571</td>\n",
       "      <td>NaN</td>\n",
       "      <td>NaN</td>\n",
       "      <td>NaN</td>\n",
       "      <td>NaN</td>\n",
       "    </tr>\n",
       "  </tbody>\n",
       "</table>\n",
       "<p>165408 rows × 67 columns</p>\n",
       "</div>"
      ],
      "text/plain": [
       "       iso_code continent     location        date  total_cases  new_cases  \\\n",
       "0           AFG      Asia  Afghanistan  2020-02-24          5.0        5.0   \n",
       "1           AFG      Asia  Afghanistan  2020-02-25          5.0        0.0   \n",
       "2           AFG      Asia  Afghanistan  2020-02-26          5.0        0.0   \n",
       "3           AFG      Asia  Afghanistan  2020-02-27          5.0        0.0   \n",
       "4           AFG      Asia  Afghanistan  2020-02-28          5.0        0.0   \n",
       "...         ...       ...          ...         ...          ...        ...   \n",
       "165403      ZWE    Africa     Zimbabwe  2022-02-25     235467.0      500.0   \n",
       "165404      ZWE    Africa     Zimbabwe  2022-02-26     235803.0      336.0   \n",
       "165405      ZWE    Africa     Zimbabwe  2022-02-27     235803.0        0.0   \n",
       "165406      ZWE    Africa     Zimbabwe  2022-02-28     236380.0      577.0   \n",
       "165407      ZWE    Africa     Zimbabwe  2022-03-01     236871.0      491.0   \n",
       "\n",
       "        new_cases_smoothed  total_deaths  new_deaths  new_deaths_smoothed  \\\n",
       "0                      NaN           NaN         NaN                  NaN   \n",
       "1                      NaN           NaN         NaN                  NaN   \n",
       "2                      NaN           NaN         NaN                  NaN   \n",
       "3                      NaN           NaN         NaN                  NaN   \n",
       "4                      NaN           NaN         NaN                  NaN   \n",
       "...                    ...           ...         ...                  ...   \n",
       "165403             348.143        5392.0         2.0                1.000   \n",
       "165404             368.429        5393.0         1.0                1.000   \n",
       "165405             350.143        5393.0         0.0                1.000   \n",
       "165406             401.286        5395.0         2.0                1.286   \n",
       "165407             413.000        5395.0         0.0                1.000   \n",
       "\n",
       "        ...  female_smokers  male_smokers  handwashing_facilities  \\\n",
       "0       ...             NaN           NaN                  37.746   \n",
       "1       ...             NaN           NaN                  37.746   \n",
       "2       ...             NaN           NaN                  37.746   \n",
       "3       ...             NaN           NaN                  37.746   \n",
       "4       ...             NaN           NaN                  37.746   \n",
       "...     ...             ...           ...                     ...   \n",
       "165403  ...             1.6          30.7                  36.791   \n",
       "165404  ...             1.6          30.7                  36.791   \n",
       "165405  ...             1.6          30.7                  36.791   \n",
       "165406  ...             1.6          30.7                  36.791   \n",
       "165407  ...             1.6          30.7                  36.791   \n",
       "\n",
       "        hospital_beds_per_thousand  life_expectancy  human_development_index  \\\n",
       "0                              0.5            64.83                    0.511   \n",
       "1                              0.5            64.83                    0.511   \n",
       "2                              0.5            64.83                    0.511   \n",
       "3                              0.5            64.83                    0.511   \n",
       "4                              0.5            64.83                    0.511   \n",
       "...                            ...              ...                      ...   \n",
       "165403                         1.7            61.49                    0.571   \n",
       "165404                         1.7            61.49                    0.571   \n",
       "165405                         1.7            61.49                    0.571   \n",
       "165406                         1.7            61.49                    0.571   \n",
       "165407                         1.7            61.49                    0.571   \n",
       "\n",
       "        excess_mortality_cumulative_absolute  excess_mortality_cumulative  \\\n",
       "0                                        NaN                          NaN   \n",
       "1                                        NaN                          NaN   \n",
       "2                                        NaN                          NaN   \n",
       "3                                        NaN                          NaN   \n",
       "4                                        NaN                          NaN   \n",
       "...                                      ...                          ...   \n",
       "165403                                   NaN                          NaN   \n",
       "165404                                   NaN                          NaN   \n",
       "165405                                   NaN                          NaN   \n",
       "165406                                   NaN                          NaN   \n",
       "165407                                   NaN                          NaN   \n",
       "\n",
       "        excess_mortality  excess_mortality_cumulative_per_million  \n",
       "0                    NaN                                      NaN  \n",
       "1                    NaN                                      NaN  \n",
       "2                    NaN                                      NaN  \n",
       "3                    NaN                                      NaN  \n",
       "4                    NaN                                      NaN  \n",
       "...                  ...                                      ...  \n",
       "165403               NaN                                      NaN  \n",
       "165404               NaN                                      NaN  \n",
       "165405               NaN                                      NaN  \n",
       "165406               NaN                                      NaN  \n",
       "165407               NaN                                      NaN  \n",
       "\n",
       "[165408 rows x 67 columns]"
      ]
     },
     "execution_count": 5,
     "metadata": {},
     "output_type": "execute_result"
    }
   ],
   "source": [
    "datos=pd.read_csv('data/contagios_covid_data.csv')\n",
    "datos"
   ]
  },
  {
   "cell_type": "code",
   "execution_count": 43,
   "metadata": {
    "ExecuteTime": {
     "end_time": "2022-03-03T02:27:25.318376Z",
     "start_time": "2022-03-03T02:27:25.258805Z"
    }
   },
   "outputs": [
    {
     "name": "stdout",
     "output_type": "stream",
     "text": [
      "<class 'pandas.core.frame.DataFrame'>\n",
      "RangeIndex: 165408 entries, 0 to 165407\n",
      "Data columns (total 67 columns):\n",
      " #   Column                                      Non-Null Count   Dtype  \n",
      "---  ------                                      --------------   -----  \n",
      " 0   iso_code                                    165408 non-null  object \n",
      " 1   continent                                   155504 non-null  object \n",
      " 2   location                                    165408 non-null  object \n",
      " 3   date                                        165408 non-null  object \n",
      " 4   total_cases                                 162378 non-null  float64\n",
      " 5   new_cases                                   162230 non-null  float64\n",
      " 6   new_cases_smoothed                          160247 non-null  float64\n",
      " 7   total_deaths                                144574 non-null  float64\n",
      " 8   new_deaths                                  144611 non-null  float64\n",
      " 9   new_deaths_smoothed                         142515 non-null  float64\n",
      " 10  total_cases_per_million                     161624 non-null  float64\n",
      " 11  new_cases_per_million                       161476 non-null  float64\n",
      " 12  new_cases_smoothed_per_million              159499 non-null  float64\n",
      " 13  total_deaths_per_million                    143833 non-null  float64\n",
      " 14  new_deaths_per_million                      143870 non-null  float64\n",
      " 15  new_deaths_smoothed_per_million             141780 non-null  float64\n",
      " 16  reproduction_rate                           125067 non-null  float64\n",
      " 17  icu_patients                                23299 non-null   float64\n",
      " 18  icu_patients_per_million                    23299 non-null   float64\n",
      " 19  hosp_patients                               24444 non-null   float64\n",
      " 20  hosp_patients_per_million                   24444 non-null   float64\n",
      " 21  weekly_icu_admissions                       5391 non-null    float64\n",
      " 22  weekly_icu_admissions_per_million           5391 non-null    float64\n",
      " 23  weekly_hosp_admissions                      10853 non-null   float64\n",
      " 24  weekly_hosp_admissions_per_million          10853 non-null   float64\n",
      " 25  new_tests                                   67006 non-null   float64\n",
      " 26  total_tests                                 68944 non-null   float64\n",
      " 27  total_tests_per_thousand                    68944 non-null   float64\n",
      " 28  new_tests_per_thousand                      67006 non-null   float64\n",
      " 29  new_tests_smoothed                          83658 non-null   float64\n",
      " 30  new_tests_smoothed_per_thousand             83658 non-null   float64\n",
      " 31  positive_rate                               78590 non-null   float64\n",
      " 32  tests_per_case                              78027 non-null   float64\n",
      " 33  tests_units                                 85981 non-null   object \n",
      " 34  total_vaccinations                          44858 non-null   float64\n",
      " 35  people_vaccinated                           42688 non-null   float64\n",
      " 36  people_fully_vaccinated                     40047 non-null   float64\n",
      " 37  total_boosters                              17241 non-null   float64\n",
      " 38  new_vaccinations                            37155 non-null   float64\n",
      " 39  new_vaccinations_smoothed                   83919 non-null   float64\n",
      " 40  total_vaccinations_per_hundred              44858 non-null   float64\n",
      " 41  people_vaccinated_per_hundred               42688 non-null   float64\n",
      " 42  people_fully_vaccinated_per_hundred         40047 non-null   float64\n",
      " 43  total_boosters_per_hundred                  17241 non-null   float64\n",
      " 44  new_vaccinations_smoothed_per_million       83919 non-null   float64\n",
      " 45  new_people_vaccinated_smoothed              82654 non-null   float64\n",
      " 46  new_people_vaccinated_smoothed_per_hundred  82654 non-null   float64\n",
      " 47  stringency_index                            129843 non-null  float64\n",
      " 48  population                                  164337 non-null  float64\n",
      " 49  population_density                          147109 non-null  float64\n",
      " 50  median_age                                  137068 non-null  float64\n",
      " 51  aged_65_older                               135582 non-null  float64\n",
      " 52  aged_70_older                               136333 non-null  float64\n",
      " 53  gdp_per_capita                              137737 non-null  float64\n",
      " 54  extreme_poverty                             90712 non-null   float64\n",
      " 55  cardiovasc_death_rate                       136019 non-null  float64\n",
      " 56  diabetes_prevalence                         143150 non-null  float64\n",
      " 57  female_smokers                              105463 non-null  float64\n",
      " 58  male_smokers                                104016 non-null  float64\n",
      " 59  handwashing_facilities                      68189 non-null   float64\n",
      " 60  hospital_beds_per_thousand                  122981 non-null  float64\n",
      " 61  life_expectancy                             154405 non-null  float64\n",
      " 62  human_development_index                     135494 non-null  float64\n",
      " 63  excess_mortality_cumulative_absolute        5696 non-null    float64\n",
      " 64  excess_mortality_cumulative                 5696 non-null    float64\n",
      " 65  excess_mortality                            5696 non-null    float64\n",
      " 66  excess_mortality_cumulative_per_million     5696 non-null    float64\n",
      "dtypes: float64(62), object(5)\n",
      "memory usage: 84.6+ MB\n"
     ]
    }
   ],
   "source": [
    "datos.info()"
   ]
  },
  {
   "cell_type": "markdown",
   "metadata": {},
   "source": [
    "# Por paises"
   ]
  },
  {
   "cell_type": "markdown",
   "metadata": {},
   "source": [
    "## Argentina"
   ]
  },
  {
   "cell_type": "code",
   "execution_count": 86,
   "metadata": {
    "ExecuteTime": {
     "end_time": "2022-03-03T02:56:21.953563Z",
     "start_time": "2022-03-03T02:56:21.928632Z"
    }
   },
   "outputs": [
    {
     "data": {
      "text/html": [
       "<div>\n",
       "<style scoped>\n",
       "    .dataframe tbody tr th:only-of-type {\n",
       "        vertical-align: middle;\n",
       "    }\n",
       "\n",
       "    .dataframe tbody tr th {\n",
       "        vertical-align: top;\n",
       "    }\n",
       "\n",
       "    .dataframe thead th {\n",
       "        text-align: right;\n",
       "    }\n",
       "</style>\n",
       "<table border=\"1\" class=\"dataframe\">\n",
       "  <thead>\n",
       "    <tr style=\"text-align: right;\">\n",
       "      <th></th>\n",
       "      <th>iso_code</th>\n",
       "      <th>continent</th>\n",
       "      <th>location</th>\n",
       "      <th>date</th>\n",
       "      <th>total_cases</th>\n",
       "      <th>new_cases</th>\n",
       "      <th>new_cases_smoothed</th>\n",
       "      <th>total_deaths</th>\n",
       "      <th>new_deaths</th>\n",
       "      <th>new_deaths_smoothed</th>\n",
       "      <th>...</th>\n",
       "      <th>female_smokers</th>\n",
       "      <th>male_smokers</th>\n",
       "      <th>handwashing_facilities</th>\n",
       "      <th>hospital_beds_per_thousand</th>\n",
       "      <th>life_expectancy</th>\n",
       "      <th>human_development_index</th>\n",
       "      <th>excess_mortality_cumulative_absolute</th>\n",
       "      <th>excess_mortality_cumulative</th>\n",
       "      <th>excess_mortality</th>\n",
       "      <th>excess_mortality_cumulative_per_million</th>\n",
       "    </tr>\n",
       "  </thead>\n",
       "  <tbody>\n",
       "    <tr>\n",
       "      <th>5822</th>\n",
       "      <td>ARG</td>\n",
       "      <td>South America</td>\n",
       "      <td>Argentina</td>\n",
       "      <td>2020-01-01</td>\n",
       "      <td>NaN</td>\n",
       "      <td>NaN</td>\n",
       "      <td>NaN</td>\n",
       "      <td>NaN</td>\n",
       "      <td>NaN</td>\n",
       "      <td>NaN</td>\n",
       "      <td>...</td>\n",
       "      <td>16.2</td>\n",
       "      <td>27.7</td>\n",
       "      <td>NaN</td>\n",
       "      <td>5.0</td>\n",
       "      <td>76.67</td>\n",
       "      <td>0.845</td>\n",
       "      <td>NaN</td>\n",
       "      <td>NaN</td>\n",
       "      <td>NaN</td>\n",
       "      <td>NaN</td>\n",
       "    </tr>\n",
       "    <tr>\n",
       "      <th>5823</th>\n",
       "      <td>ARG</td>\n",
       "      <td>South America</td>\n",
       "      <td>Argentina</td>\n",
       "      <td>2020-01-02</td>\n",
       "      <td>NaN</td>\n",
       "      <td>NaN</td>\n",
       "      <td>NaN</td>\n",
       "      <td>NaN</td>\n",
       "      <td>NaN</td>\n",
       "      <td>NaN</td>\n",
       "      <td>...</td>\n",
       "      <td>16.2</td>\n",
       "      <td>27.7</td>\n",
       "      <td>NaN</td>\n",
       "      <td>5.0</td>\n",
       "      <td>76.67</td>\n",
       "      <td>0.845</td>\n",
       "      <td>NaN</td>\n",
       "      <td>NaN</td>\n",
       "      <td>NaN</td>\n",
       "      <td>NaN</td>\n",
       "    </tr>\n",
       "    <tr>\n",
       "      <th>5824</th>\n",
       "      <td>ARG</td>\n",
       "      <td>South America</td>\n",
       "      <td>Argentina</td>\n",
       "      <td>2020-01-03</td>\n",
       "      <td>NaN</td>\n",
       "      <td>NaN</td>\n",
       "      <td>NaN</td>\n",
       "      <td>NaN</td>\n",
       "      <td>NaN</td>\n",
       "      <td>NaN</td>\n",
       "      <td>...</td>\n",
       "      <td>16.2</td>\n",
       "      <td>27.7</td>\n",
       "      <td>NaN</td>\n",
       "      <td>5.0</td>\n",
       "      <td>76.67</td>\n",
       "      <td>0.845</td>\n",
       "      <td>NaN</td>\n",
       "      <td>NaN</td>\n",
       "      <td>NaN</td>\n",
       "      <td>NaN</td>\n",
       "    </tr>\n",
       "    <tr>\n",
       "      <th>5825</th>\n",
       "      <td>ARG</td>\n",
       "      <td>South America</td>\n",
       "      <td>Argentina</td>\n",
       "      <td>2020-01-04</td>\n",
       "      <td>NaN</td>\n",
       "      <td>NaN</td>\n",
       "      <td>NaN</td>\n",
       "      <td>NaN</td>\n",
       "      <td>NaN</td>\n",
       "      <td>NaN</td>\n",
       "      <td>...</td>\n",
       "      <td>16.2</td>\n",
       "      <td>27.7</td>\n",
       "      <td>NaN</td>\n",
       "      <td>5.0</td>\n",
       "      <td>76.67</td>\n",
       "      <td>0.845</td>\n",
       "      <td>NaN</td>\n",
       "      <td>NaN</td>\n",
       "      <td>NaN</td>\n",
       "      <td>NaN</td>\n",
       "    </tr>\n",
       "    <tr>\n",
       "      <th>5826</th>\n",
       "      <td>ARG</td>\n",
       "      <td>South America</td>\n",
       "      <td>Argentina</td>\n",
       "      <td>2020-01-05</td>\n",
       "      <td>NaN</td>\n",
       "      <td>NaN</td>\n",
       "      <td>NaN</td>\n",
       "      <td>NaN</td>\n",
       "      <td>NaN</td>\n",
       "      <td>NaN</td>\n",
       "      <td>...</td>\n",
       "      <td>16.2</td>\n",
       "      <td>27.7</td>\n",
       "      <td>NaN</td>\n",
       "      <td>5.0</td>\n",
       "      <td>76.67</td>\n",
       "      <td>0.845</td>\n",
       "      <td>NaN</td>\n",
       "      <td>NaN</td>\n",
       "      <td>NaN</td>\n",
       "      <td>NaN</td>\n",
       "    </tr>\n",
       "    <tr>\n",
       "      <th>...</th>\n",
       "      <td>...</td>\n",
       "      <td>...</td>\n",
       "      <td>...</td>\n",
       "      <td>...</td>\n",
       "      <td>...</td>\n",
       "      <td>...</td>\n",
       "      <td>...</td>\n",
       "      <td>...</td>\n",
       "      <td>...</td>\n",
       "      <td>...</td>\n",
       "      <td>...</td>\n",
       "      <td>...</td>\n",
       "      <td>...</td>\n",
       "      <td>...</td>\n",
       "      <td>...</td>\n",
       "      <td>...</td>\n",
       "      <td>...</td>\n",
       "      <td>...</td>\n",
       "      <td>...</td>\n",
       "      <td>...</td>\n",
       "      <td>...</td>\n",
       "    </tr>\n",
       "    <tr>\n",
       "      <th>6608</th>\n",
       "      <td>ARG</td>\n",
       "      <td>South America</td>\n",
       "      <td>Argentina</td>\n",
       "      <td>2022-02-25</td>\n",
       "      <td>8887973.0</td>\n",
       "      <td>9487.0</td>\n",
       "      <td>10389.429</td>\n",
       "      <td>125958.0</td>\n",
       "      <td>86.0</td>\n",
       "      <td>128.000</td>\n",
       "      <td>...</td>\n",
       "      <td>16.2</td>\n",
       "      <td>27.7</td>\n",
       "      <td>NaN</td>\n",
       "      <td>5.0</td>\n",
       "      <td>76.67</td>\n",
       "      <td>0.845</td>\n",
       "      <td>NaN</td>\n",
       "      <td>NaN</td>\n",
       "      <td>NaN</td>\n",
       "      <td>NaN</td>\n",
       "    </tr>\n",
       "    <tr>\n",
       "      <th>6609</th>\n",
       "      <td>ARG</td>\n",
       "      <td>South America</td>\n",
       "      <td>Argentina</td>\n",
       "      <td>2022-02-26</td>\n",
       "      <td>8893568.0</td>\n",
       "      <td>5595.0</td>\n",
       "      <td>10073.429</td>\n",
       "      <td>126048.0</td>\n",
       "      <td>90.0</td>\n",
       "      <td>123.286</td>\n",
       "      <td>...</td>\n",
       "      <td>16.2</td>\n",
       "      <td>27.7</td>\n",
       "      <td>NaN</td>\n",
       "      <td>5.0</td>\n",
       "      <td>76.67</td>\n",
       "      <td>0.845</td>\n",
       "      <td>NaN</td>\n",
       "      <td>NaN</td>\n",
       "      <td>NaN</td>\n",
       "      <td>NaN</td>\n",
       "    </tr>\n",
       "    <tr>\n",
       "      <th>6610</th>\n",
       "      <td>ARG</td>\n",
       "      <td>South America</td>\n",
       "      <td>Argentina</td>\n",
       "      <td>2022-02-27</td>\n",
       "      <td>8897178.0</td>\n",
       "      <td>3610.0</td>\n",
       "      <td>9953.429</td>\n",
       "      <td>126120.0</td>\n",
       "      <td>72.0</td>\n",
       "      <td>120.286</td>\n",
       "      <td>...</td>\n",
       "      <td>16.2</td>\n",
       "      <td>27.7</td>\n",
       "      <td>NaN</td>\n",
       "      <td>5.0</td>\n",
       "      <td>76.67</td>\n",
       "      <td>0.845</td>\n",
       "      <td>NaN</td>\n",
       "      <td>NaN</td>\n",
       "      <td>NaN</td>\n",
       "      <td>NaN</td>\n",
       "    </tr>\n",
       "    <tr>\n",
       "      <th>6611</th>\n",
       "      <td>ARG</td>\n",
       "      <td>South America</td>\n",
       "      <td>Argentina</td>\n",
       "      <td>2022-02-28</td>\n",
       "      <td>8900656.0</td>\n",
       "      <td>3478.0</td>\n",
       "      <td>8854.571</td>\n",
       "      <td>126152.0</td>\n",
       "      <td>32.0</td>\n",
       "      <td>100.143</td>\n",
       "      <td>...</td>\n",
       "      <td>16.2</td>\n",
       "      <td>27.7</td>\n",
       "      <td>NaN</td>\n",
       "      <td>5.0</td>\n",
       "      <td>76.67</td>\n",
       "      <td>0.845</td>\n",
       "      <td>NaN</td>\n",
       "      <td>NaN</td>\n",
       "      <td>NaN</td>\n",
       "      <td>NaN</td>\n",
       "    </tr>\n",
       "    <tr>\n",
       "      <th>6612</th>\n",
       "      <td>ARG</td>\n",
       "      <td>South America</td>\n",
       "      <td>Argentina</td>\n",
       "      <td>2022-03-01</td>\n",
       "      <td>8904176.0</td>\n",
       "      <td>3520.0</td>\n",
       "      <td>6936.000</td>\n",
       "      <td>126257.0</td>\n",
       "      <td>105.0</td>\n",
       "      <td>91.286</td>\n",
       "      <td>...</td>\n",
       "      <td>16.2</td>\n",
       "      <td>27.7</td>\n",
       "      <td>NaN</td>\n",
       "      <td>5.0</td>\n",
       "      <td>76.67</td>\n",
       "      <td>0.845</td>\n",
       "      <td>NaN</td>\n",
       "      <td>NaN</td>\n",
       "      <td>NaN</td>\n",
       "      <td>NaN</td>\n",
       "    </tr>\n",
       "  </tbody>\n",
       "</table>\n",
       "<p>791 rows × 67 columns</p>\n",
       "</div>"
      ],
      "text/plain": [
       "     iso_code      continent   location        date  total_cases  new_cases  \\\n",
       "5822      ARG  South America  Argentina  2020-01-01          NaN        NaN   \n",
       "5823      ARG  South America  Argentina  2020-01-02          NaN        NaN   \n",
       "5824      ARG  South America  Argentina  2020-01-03          NaN        NaN   \n",
       "5825      ARG  South America  Argentina  2020-01-04          NaN        NaN   \n",
       "5826      ARG  South America  Argentina  2020-01-05          NaN        NaN   \n",
       "...       ...            ...        ...         ...          ...        ...   \n",
       "6608      ARG  South America  Argentina  2022-02-25    8887973.0     9487.0   \n",
       "6609      ARG  South America  Argentina  2022-02-26    8893568.0     5595.0   \n",
       "6610      ARG  South America  Argentina  2022-02-27    8897178.0     3610.0   \n",
       "6611      ARG  South America  Argentina  2022-02-28    8900656.0     3478.0   \n",
       "6612      ARG  South America  Argentina  2022-03-01    8904176.0     3520.0   \n",
       "\n",
       "      new_cases_smoothed  total_deaths  new_deaths  new_deaths_smoothed  ...  \\\n",
       "5822                 NaN           NaN         NaN                  NaN  ...   \n",
       "5823                 NaN           NaN         NaN                  NaN  ...   \n",
       "5824                 NaN           NaN         NaN                  NaN  ...   \n",
       "5825                 NaN           NaN         NaN                  NaN  ...   \n",
       "5826                 NaN           NaN         NaN                  NaN  ...   \n",
       "...                  ...           ...         ...                  ...  ...   \n",
       "6608           10389.429      125958.0        86.0              128.000  ...   \n",
       "6609           10073.429      126048.0        90.0              123.286  ...   \n",
       "6610            9953.429      126120.0        72.0              120.286  ...   \n",
       "6611            8854.571      126152.0        32.0              100.143  ...   \n",
       "6612            6936.000      126257.0       105.0               91.286  ...   \n",
       "\n",
       "      female_smokers  male_smokers  handwashing_facilities  \\\n",
       "5822            16.2          27.7                     NaN   \n",
       "5823            16.2          27.7                     NaN   \n",
       "5824            16.2          27.7                     NaN   \n",
       "5825            16.2          27.7                     NaN   \n",
       "5826            16.2          27.7                     NaN   \n",
       "...              ...           ...                     ...   \n",
       "6608            16.2          27.7                     NaN   \n",
       "6609            16.2          27.7                     NaN   \n",
       "6610            16.2          27.7                     NaN   \n",
       "6611            16.2          27.7                     NaN   \n",
       "6612            16.2          27.7                     NaN   \n",
       "\n",
       "      hospital_beds_per_thousand  life_expectancy  human_development_index  \\\n",
       "5822                         5.0            76.67                    0.845   \n",
       "5823                         5.0            76.67                    0.845   \n",
       "5824                         5.0            76.67                    0.845   \n",
       "5825                         5.0            76.67                    0.845   \n",
       "5826                         5.0            76.67                    0.845   \n",
       "...                          ...              ...                      ...   \n",
       "6608                         5.0            76.67                    0.845   \n",
       "6609                         5.0            76.67                    0.845   \n",
       "6610                         5.0            76.67                    0.845   \n",
       "6611                         5.0            76.67                    0.845   \n",
       "6612                         5.0            76.67                    0.845   \n",
       "\n",
       "      excess_mortality_cumulative_absolute  excess_mortality_cumulative  \\\n",
       "5822                                   NaN                          NaN   \n",
       "5823                                   NaN                          NaN   \n",
       "5824                                   NaN                          NaN   \n",
       "5825                                   NaN                          NaN   \n",
       "5826                                   NaN                          NaN   \n",
       "...                                    ...                          ...   \n",
       "6608                                   NaN                          NaN   \n",
       "6609                                   NaN                          NaN   \n",
       "6610                                   NaN                          NaN   \n",
       "6611                                   NaN                          NaN   \n",
       "6612                                   NaN                          NaN   \n",
       "\n",
       "      excess_mortality  excess_mortality_cumulative_per_million  \n",
       "5822               NaN                                      NaN  \n",
       "5823               NaN                                      NaN  \n",
       "5824               NaN                                      NaN  \n",
       "5825               NaN                                      NaN  \n",
       "5826               NaN                                      NaN  \n",
       "...                ...                                      ...  \n",
       "6608               NaN                                      NaN  \n",
       "6609               NaN                                      NaN  \n",
       "6610               NaN                                      NaN  \n",
       "6611               NaN                                      NaN  \n",
       "6612               NaN                                      NaN  \n",
       "\n",
       "[791 rows x 67 columns]"
      ]
     },
     "execution_count": 86,
     "metadata": {},
     "output_type": "execute_result"
    }
   ],
   "source": [
    "df_arg = datos[datos.location == 'Argentina']\n",
    "df_arg"
   ]
  },
  {
   "cell_type": "code",
   "execution_count": 88,
   "metadata": {
    "ExecuteTime": {
     "end_time": "2022-03-03T02:56:53.526603Z",
     "start_time": "2022-03-03T02:56:53.511647Z"
    }
   },
   "outputs": [
    {
     "data": {
      "text/plain": [
       "62"
      ]
     },
     "execution_count": 88,
     "metadata": {},
     "output_type": "execute_result"
    }
   ],
   "source": [
    "# Primer caso no nulo index\n",
    "df_arg.total_cases.isnull().idxmin()-df_arg.iloc[0].name"
   ]
  },
  {
   "cell_type": "code",
   "execution_count": 85,
   "metadata": {
    "ExecuteTime": {
     "end_time": "2022-03-03T02:56:12.653706Z",
     "start_time": "2022-03-03T02:56:12.647725Z"
    }
   },
   "outputs": [
    {
     "data": {
      "text/plain": [
       "5822"
      ]
     },
     "execution_count": 85,
     "metadata": {},
     "output_type": "execute_result"
    }
   ],
   "source": [
    "df_arg.total_cases.isnull().idxmax()"
   ]
  },
  {
   "cell_type": "code",
   "execution_count": 72,
   "metadata": {
    "ExecuteTime": {
     "end_time": "2022-03-03T02:52:57.737992Z",
     "start_time": "2022-03-03T02:52:57.720012Z"
    },
    "id": "avKRmQzGYiMV"
   },
   "outputs": [],
   "source": [
    "paises=datos['location'] #cargo el vector de paises\n",
    "confirmados=datos['total_cases'] #carga vector todos los casos confirmados"
   ]
  },
  {
   "cell_type": "code",
   "execution_count": 65,
   "metadata": {
    "ExecuteTime": {
     "end_time": "2022-03-03T02:50:14.643507Z",
     "start_time": "2022-03-03T02:50:14.544385Z"
    },
    "colab": {
     "base_uri": "https://localhost:8080/",
     "height": 308
    },
    "id": "GZt3IeBaa8pz",
    "outputId": "e53e9d96-639f-4c5f-cb89-9c05d6c5ea63"
   },
   "outputs": [
    {
     "data": {
      "text/plain": [
       "Text(0, 0.5, 'cantidad de casos')"
      ]
     },
     "execution_count": 65,
     "metadata": {},
     "output_type": "execute_result"
    },
    {
     "data": {
      "image/png": "[encoded data removed]",
      "text/plain": [
       "<Figure size 1080x576 with 1 Axes>"
      ]
     },
     "metadata": {
      "needs_background": "light"
     },
     "output_type": "display_data"
    }
   ],
   "source": [
    "#seleccionamos China\n",
    "\n",
    "ind_arg=np.where(paises=='Argentina')\n",
    "ind_arg=ind_arg[0]\n",
    "casos_arg=confirmados[ind_arg]\n",
    "dias=np.arange(0,len(casos_arg))\n",
    "plt.figure(figsize = (15,8))\n",
    "plt.plot(dias,casos_arg)\n",
    "plt.xlabel('dias')\n",
    "plt.ylabel('cantidad de casos')"
   ]
  },
  {
   "cell_type": "markdown",
   "metadata": {
    "id": "Hz1nUBfxcxOP"
   },
   "source": [
    "Esta es la curva de **casos totales** de la Argentina. Aquí no se ven las olas, ya que estas se ven en la curva de casos confirmados por día, es decir, de casos nuevos. Esta habla de los acumulados, entonces siempre se agregan.\n",
    "\n",
    "Para ver mejor la curva, podemos tomar el logartimo de los datos. Una curva exponencial se ve lineal en escala logarítmica\n"
   ]
  },
  {
   "cell_type": "code",
   "execution_count": 66,
   "metadata": {
    "ExecuteTime": {
     "end_time": "2022-03-03T02:50:19.040850Z",
     "start_time": "2022-03-03T02:50:18.927641Z"
    },
    "colab": {
     "base_uri": "https://localhost:8080/",
     "height": 297
    },
    "id": "F1oMHfLlbpld",
    "outputId": "10131ce1-5737-4690-db36-b26756d0776a"
   },
   "outputs": [
    {
     "data": {
      "text/plain": [
       "Text(0, 0.5, 'log cantidad de casos')"
      ]
     },
     "execution_count": 66,
     "metadata": {},
     "output_type": "execute_result"
    },
    {
     "data": {
      "image/png": "[encoded data removed]",
      "text/plain": [
       "<Figure size 1080x576 with 1 Axes>"
      ]
     },
     "metadata": {
      "needs_background": "light"
     },
     "output_type": "display_data"
    }
   ],
   "source": [
    "plt.figure(figsize = (15,8))\n",
    "plt.plot(dias,np.log(casos_arg))\n",
    "plt.xlabel('dias')\n",
    "plt.ylabel('log cantidad de casos')"
   ]
  },
  {
   "cell_type": "markdown",
   "metadata": {
    "id": "GQjQUh9QeKZl"
   },
   "source": [
    "Veamos lo que pasa en los primeros 60 días desde que se detectó el primer caso en Argentina, para ver cómo fue el $k$ inicial"
   ]
  },
  {
   "cell_type": "code",
   "execution_count": 89,
   "metadata": {
    "ExecuteTime": {
     "end_time": "2022-03-03T02:58:00.209549Z",
     "start_time": "2022-03-03T02:58:00.119769Z"
    },
    "colab": {
     "base_uri": "https://localhost:8080/",
     "height": 297
    },
    "id": "p0MBIAOldeSs",
    "outputId": "6a196767-3eee-4ddc-9e22-f5487b599843"
   },
   "outputs": [
    {
     "data": {
      "text/plain": [
       "Text(0, 0.5, 'cantidad de casos')"
      ]
     },
     "execution_count": 89,
     "metadata": {},
     "output_type": "execute_result"
    },
    {
     "data": {
      "image/png": "[encoded data removed]",
      "text/plain": [
       "<Figure size 1080x576 with 1 Axes>"
      ]
     },
     "metadata": {
      "needs_background": "light"
     },
     "output_type": "display_data"
    }
   ],
   "source": [
    "casos_principio=casos_arg[62:121]\n",
    "dias_principio=dias[62:121]\n",
    "\n",
    "plt.figure(figsize = (15,8))\n",
    "plt.plot(dias_principio,casos_principio)\n",
    "plt.xlabel('dias')\n",
    "plt.ylabel('cantidad de casos')"
   ]
  },
  {
   "cell_type": "markdown",
   "metadata": {
    "id": "u2b-yQziemV1"
   },
   "source": [
    "Es difícil determinar si esta parte es exponencial. Analicemos qué pasa en escala logarítmica."
   ]
  },
  {
   "cell_type": "code",
   "execution_count": 90,
   "metadata": {
    "ExecuteTime": {
     "end_time": "2022-03-03T02:58:17.048676Z",
     "start_time": "2022-03-03T02:58:16.766715Z"
    },
    "colab": {
     "base_uri": "https://localhost:8080/",
     "height": 297
    },
    "id": "ibBhO71Vehld",
    "outputId": "bd35de8b-b7de-4c35-c4e6-f8a408ece3b7"
   },
   "outputs": [
    {
     "data": {
      "text/plain": [
       "Text(0, 0.5, 'log cantidad de casos')"
      ]
     },
     "execution_count": 90,
     "metadata": {},
     "output_type": "execute_result"
    },
    {
     "data": {
      "image/png": "[encoded data removed]",
      "text/plain": [
       "<Figure size 432x288 with 1 Axes>"
      ]
     },
     "metadata": {
      "needs_background": "light"
     },
     "output_type": "display_data"
    }
   ],
   "source": [
    "\n",
    "plt.plot(dias_principio,np.log(casos_principio))\n",
    "plt.xlabel('dias')\n",
    "plt.ylabel('log cantidad de casos')"
   ]
  },
  {
   "cell_type": "markdown",
   "metadata": {
    "id": "tagPxpI4e228"
   },
   "source": [
    "Mejor nos quedamos con lo que sucede entre los días 31 y 55, ya que ese fue el comportamiento más sostenido."
   ]
  },
  {
   "cell_type": "code",
   "execution_count": 92,
   "metadata": {
    "ExecuteTime": {
     "end_time": "2022-03-03T02:59:20.770919Z",
     "start_time": "2022-03-03T02:59:20.687279Z"
    },
    "colab": {
     "base_uri": "https://localhost:8080/",
     "height": 297
    },
    "id": "QoSvN6UPe0Sx",
    "outputId": "def57826-40d8-4925-8f06-0324d1fefe47"
   },
   "outputs": [
    {
     "data": {
      "text/plain": [
       "Text(0, 0.5, 'cantidad de casos')"
      ]
     },
     "execution_count": 92,
     "metadata": {},
     "output_type": "execute_result"
    },
    {
     "data": {
      "image/png": "[encoded data removed]",
      "text/plain": [
       "<Figure size 432x288 with 1 Axes>"
      ]
     },
     "metadata": {
      "needs_background": "light"
     },
     "output_type": "display_data"
    }
   ],
   "source": [
    "casos_principio=casos_arg[64:90]\n",
    "dias_principio=dias[64:90]\n",
    "\n",
    "plt.plot(dias_principio,casos_principio)\n",
    "plt.xlabel('dias')\n",
    "plt.ylabel('cantidad de casos')"
   ]
  },
  {
   "cell_type": "code",
   "execution_count": null,
   "metadata": {
    "colab": {
     "base_uri": "https://localhost:8080/",
     "height": 297
    },
    "id": "jocr_PfQfDB5",
    "outputId": "2eae8236-c0ad-484c-c4e3-52328838139d"
   },
   "outputs": [
    {
     "data": {
      "text/plain": [
       "Text(0, 0.5, 'log cantidad de casos')"
      ]
     },
     "execution_count": 45,
     "metadata": {
      "tags": []
     },
     "output_type": "execute_result"
    },
    {
     "data": {
      "image/png": "[encoded data removed]",
      "text/plain": [
       "<Figure size 432x288 with 1 Axes>"
      ]
     },
     "metadata": {
      "needs_background": "light",
      "tags": []
     },
     "output_type": "display_data"
    }
   ],
   "source": [
    "plt.plot(dias_principio,np.log(casos_principio))\n",
    "plt.xlabel('dias')\n",
    "plt.ylabel('log cantidad de casos')"
   ]
  },
  {
   "cell_type": "markdown",
   "metadata": {
    "id": "CV3RQ4L1f95c"
   },
   "source": [
    "¡Se ve bastante lineal! Aprovechemos esto para averiguar el $k$ utilizando un ajuste hecho con el método de cuadrados mínimos, ajustando los datos al modelo \n",
    "\n",
    "$Confirmados=e^{k(t-t_0)}$\n",
    "\n"
   ]
  },
  {
   "cell_type": "code",
   "execution_count": null,
   "metadata": {
    "id": "L4b5BB9lfyTQ"
   },
   "outputs": [],
   "source": [
    "#definimos función para ajustar modelo\n",
    "def exponencial(t,k,t0):\n",
    "  C=np.exp(k*(t-t0))\n",
    "  return C"
   ]
  },
  {
   "cell_type": "code",
   "execution_count": null,
   "metadata": {
    "colab": {
     "base_uri": "https://localhost:8080/"
    },
    "id": "qJF6X5lHh6_K",
    "outputId": "edbc55cb-a496-4006-c533-bc325d67cbc9"
   },
   "outputs": [
    {
     "data": {
      "text/plain": [
       "array([ 0.16878142, 13.72094025])"
      ]
     },
     "execution_count": 47,
     "metadata": {
      "tags": []
     },
     "output_type": "execute_result"
    }
   ],
   "source": [
    "#ajustamos\n",
    "popt, pcov = curve_fit(exponencial, dias_principio, casos_principio)\n",
    "popt"
   ]
  },
  {
   "cell_type": "markdown",
   "metadata": {
    "id": "Or4MYGHtiZzR"
   },
   "source": [
    "Veamos cómo se ajusta lo que obtuvimos a los datos reales"
   ]
  },
  {
   "cell_type": "code",
   "execution_count": null,
   "metadata": {
    "colab": {
     "base_uri": "https://localhost:8080/",
     "height": 283
    },
    "id": "wzBgxnf4iQqq",
    "outputId": "06821748-c800-4f0c-c3b0-76000cc28f2e"
   },
   "outputs": [
    {
     "data": {
      "text/plain": [
       "[<matplotlib.lines.Line2D at 0x7fd3c5a17e10>]"
      ]
     },
     "execution_count": 48,
     "metadata": {
      "tags": []
     },
     "output_type": "execute_result"
    },
    {
     "data": {
      "image/png": "[encoded data removed]",
      "text/plain": [
       "<Figure size 432x288 with 1 Axes>"
      ]
     },
     "metadata": {
      "needs_background": "light",
      "tags": []
     },
     "output_type": "display_data"
    }
   ],
   "source": [
    "k=popt[0]\n",
    "t0=popt[1]\n",
    "casos_simu=exponencial(dias_principio,k,t0)\n",
    "plt.plot(dias_principio,casos_principio,'.')\n",
    "plt.plot(dias_principio,casos_simu)"
   ]
  },
  {
   "cell_type": "markdown",
   "metadata": {
    "id": "zt24DRvS2fg2"
   },
   "source": [
    "Como última pista, hagamos una función que determine los casos nuevos por día a partir de estas curvas. Puede ser útil para tu análisis."
   ]
  },
  {
   "cell_type": "code",
   "execution_count": null,
   "metadata": {
    "id": "losUiyh6iw-N"
   },
   "outputs": [],
   "source": [
    "def casos_nuevos(casos):\n",
    "  nuevos=np.zeros(len(casos))\n",
    "  i=0\n",
    "  while i<len(nuevos)-1:\n",
    "    nuevos[i]=casos[i+1]-casos[i]\n",
    "    i=i+1\n",
    "\n",
    "  return nuevos   "
   ]
  },
  {
   "cell_type": "code",
   "execution_count": null,
   "metadata": {
    "colab": {
     "base_uri": "https://localhost:8080/",
     "height": 283
    },
    "id": "9a7ZdG652-uC",
    "outputId": "9fde423a-5c04-4197-a596-0808954f12f6"
   },
   "outputs": [
    {
     "data": {
      "text/plain": [
       "[<matplotlib.lines.Line2D at 0x7fd3c5d44810>]"
      ]
     },
     "execution_count": 57,
     "metadata": {
      "tags": []
     },
     "output_type": "execute_result"
    },
    {
     "data": {
      "image/png": "[encoded data removed]",
      "text/plain": [
       "<Figure size 432x288 with 1 Axes>"
      ]
     },
     "metadata": {
      "needs_background": "light",
      "tags": []
     },
     "output_type": "display_data"
    }
   ],
   "source": [
    "casos_arg=np.array(casos_arg)\n",
    "nuevos_arg=casos_nuevos(casos_arg)\n",
    "plt.plot(nuevos_arg)"
   ]
  },
  {
   "cell_type": "markdown",
   "metadata": {
    "id": "eHJ2ZF_Y3O6A"
   },
   "source": [
    "## Colombia"
   ]
  },
  {
   "cell_type": "code",
   "execution_count": 6,
   "metadata": {
    "ExecuteTime": {
     "end_time": "2022-03-03T22:47:43.923054Z",
     "start_time": "2022-03-03T22:47:43.898120Z"
    }
   },
   "outputs": [
    {
     "data": {
      "text/html": [
       "<div>\n",
       "<style scoped>\n",
       "    .dataframe tbody tr th:only-of-type {\n",
       "        vertical-align: middle;\n",
       "    }\n",
       "\n",
       "    .dataframe tbody tr th {\n",
       "        vertical-align: top;\n",
       "    }\n",
       "\n",
       "    .dataframe thead th {\n",
       "        text-align: right;\n",
       "    }\n",
       "</style>\n",
       "<table border=\"1\" class=\"dataframe\">\n",
       "  <thead>\n",
       "    <tr style=\"text-align: right;\">\n",
       "      <th></th>\n",
       "      <th>iso_code</th>\n",
       "      <th>continent</th>\n",
       "      <th>location</th>\n",
       "      <th>date</th>\n",
       "      <th>total_cases</th>\n",
       "      <th>new_cases</th>\n",
       "      <th>new_cases_smoothed</th>\n",
       "      <th>total_deaths</th>\n",
       "      <th>new_deaths</th>\n",
       "      <th>new_deaths_smoothed</th>\n",
       "      <th>...</th>\n",
       "      <th>female_smokers</th>\n",
       "      <th>male_smokers</th>\n",
       "      <th>handwashing_facilities</th>\n",
       "      <th>hospital_beds_per_thousand</th>\n",
       "      <th>life_expectancy</th>\n",
       "      <th>human_development_index</th>\n",
       "      <th>excess_mortality_cumulative_absolute</th>\n",
       "      <th>excess_mortality_cumulative</th>\n",
       "      <th>excess_mortality</th>\n",
       "      <th>excess_mortality_cumulative_per_million</th>\n",
       "    </tr>\n",
       "  </thead>\n",
       "  <tbody>\n",
       "    <tr>\n",
       "      <th>32128</th>\n",
       "      <td>COL</td>\n",
       "      <td>South America</td>\n",
       "      <td>Colombia</td>\n",
       "      <td>2020-03-06</td>\n",
       "      <td>1.0</td>\n",
       "      <td>1.0</td>\n",
       "      <td>NaN</td>\n",
       "      <td>NaN</td>\n",
       "      <td>NaN</td>\n",
       "      <td>NaN</td>\n",
       "      <td>...</td>\n",
       "      <td>4.7</td>\n",
       "      <td>13.5</td>\n",
       "      <td>65.386</td>\n",
       "      <td>1.71</td>\n",
       "      <td>77.29</td>\n",
       "      <td>0.767</td>\n",
       "      <td>NaN</td>\n",
       "      <td>NaN</td>\n",
       "      <td>NaN</td>\n",
       "      <td>NaN</td>\n",
       "    </tr>\n",
       "    <tr>\n",
       "      <th>32129</th>\n",
       "      <td>COL</td>\n",
       "      <td>South America</td>\n",
       "      <td>Colombia</td>\n",
       "      <td>2020-03-07</td>\n",
       "      <td>1.0</td>\n",
       "      <td>0.0</td>\n",
       "      <td>NaN</td>\n",
       "      <td>NaN</td>\n",
       "      <td>NaN</td>\n",
       "      <td>NaN</td>\n",
       "      <td>...</td>\n",
       "      <td>4.7</td>\n",
       "      <td>13.5</td>\n",
       "      <td>65.386</td>\n",
       "      <td>1.71</td>\n",
       "      <td>77.29</td>\n",
       "      <td>0.767</td>\n",
       "      <td>NaN</td>\n",
       "      <td>NaN</td>\n",
       "      <td>NaN</td>\n",
       "      <td>NaN</td>\n",
       "    </tr>\n",
       "    <tr>\n",
       "      <th>32130</th>\n",
       "      <td>COL</td>\n",
       "      <td>South America</td>\n",
       "      <td>Colombia</td>\n",
       "      <td>2020-03-08</td>\n",
       "      <td>1.0</td>\n",
       "      <td>0.0</td>\n",
       "      <td>NaN</td>\n",
       "      <td>NaN</td>\n",
       "      <td>NaN</td>\n",
       "      <td>NaN</td>\n",
       "      <td>...</td>\n",
       "      <td>4.7</td>\n",
       "      <td>13.5</td>\n",
       "      <td>65.386</td>\n",
       "      <td>1.71</td>\n",
       "      <td>77.29</td>\n",
       "      <td>0.767</td>\n",
       "      <td>543.2</td>\n",
       "      <td>1.15</td>\n",
       "      <td>-1.48</td>\n",
       "      <td>10.595749</td>\n",
       "    </tr>\n",
       "    <tr>\n",
       "      <th>32131</th>\n",
       "      <td>COL</td>\n",
       "      <td>South America</td>\n",
       "      <td>Colombia</td>\n",
       "      <td>2020-03-09</td>\n",
       "      <td>1.0</td>\n",
       "      <td>0.0</td>\n",
       "      <td>NaN</td>\n",
       "      <td>NaN</td>\n",
       "      <td>NaN</td>\n",
       "      <td>NaN</td>\n",
       "      <td>...</td>\n",
       "      <td>4.7</td>\n",
       "      <td>13.5</td>\n",
       "      <td>65.386</td>\n",
       "      <td>1.71</td>\n",
       "      <td>77.29</td>\n",
       "      <td>0.767</td>\n",
       "      <td>NaN</td>\n",
       "      <td>NaN</td>\n",
       "      <td>NaN</td>\n",
       "      <td>NaN</td>\n",
       "    </tr>\n",
       "    <tr>\n",
       "      <th>32132</th>\n",
       "      <td>COL</td>\n",
       "      <td>South America</td>\n",
       "      <td>Colombia</td>\n",
       "      <td>2020-03-10</td>\n",
       "      <td>3.0</td>\n",
       "      <td>2.0</td>\n",
       "      <td>NaN</td>\n",
       "      <td>NaN</td>\n",
       "      <td>NaN</td>\n",
       "      <td>NaN</td>\n",
       "      <td>...</td>\n",
       "      <td>4.7</td>\n",
       "      <td>13.5</td>\n",
       "      <td>65.386</td>\n",
       "      <td>1.71</td>\n",
       "      <td>77.29</td>\n",
       "      <td>0.767</td>\n",
       "      <td>NaN</td>\n",
       "      <td>NaN</td>\n",
       "      <td>NaN</td>\n",
       "      <td>NaN</td>\n",
       "    </tr>\n",
       "    <tr>\n",
       "      <th>...</th>\n",
       "      <td>...</td>\n",
       "      <td>...</td>\n",
       "      <td>...</td>\n",
       "      <td>...</td>\n",
       "      <td>...</td>\n",
       "      <td>...</td>\n",
       "      <td>...</td>\n",
       "      <td>...</td>\n",
       "      <td>...</td>\n",
       "      <td>...</td>\n",
       "      <td>...</td>\n",
       "      <td>...</td>\n",
       "      <td>...</td>\n",
       "      <td>...</td>\n",
       "      <td>...</td>\n",
       "      <td>...</td>\n",
       "      <td>...</td>\n",
       "      <td>...</td>\n",
       "      <td>...</td>\n",
       "      <td>...</td>\n",
       "      <td>...</td>\n",
       "    </tr>\n",
       "    <tr>\n",
       "      <th>32849</th>\n",
       "      <td>COL</td>\n",
       "      <td>South America</td>\n",
       "      <td>Colombia</td>\n",
       "      <td>2022-02-25</td>\n",
       "      <td>6058715.0</td>\n",
       "      <td>2159.0</td>\n",
       "      <td>2793.143</td>\n",
       "      <td>138501.0</td>\n",
       "      <td>80.0</td>\n",
       "      <td>90.286</td>\n",
       "      <td>...</td>\n",
       "      <td>4.7</td>\n",
       "      <td>13.5</td>\n",
       "      <td>65.386</td>\n",
       "      <td>1.71</td>\n",
       "      <td>77.29</td>\n",
       "      <td>0.767</td>\n",
       "      <td>NaN</td>\n",
       "      <td>NaN</td>\n",
       "      <td>NaN</td>\n",
       "      <td>NaN</td>\n",
       "    </tr>\n",
       "    <tr>\n",
       "      <th>32850</th>\n",
       "      <td>COL</td>\n",
       "      <td>South America</td>\n",
       "      <td>Colombia</td>\n",
       "      <td>2022-02-26</td>\n",
       "      <td>6060793.0</td>\n",
       "      <td>2078.0</td>\n",
       "      <td>2447.429</td>\n",
       "      <td>138598.0</td>\n",
       "      <td>97.0</td>\n",
       "      <td>86.000</td>\n",
       "      <td>...</td>\n",
       "      <td>4.7</td>\n",
       "      <td>13.5</td>\n",
       "      <td>65.386</td>\n",
       "      <td>1.71</td>\n",
       "      <td>77.29</td>\n",
       "      <td>0.767</td>\n",
       "      <td>NaN</td>\n",
       "      <td>NaN</td>\n",
       "      <td>NaN</td>\n",
       "      <td>NaN</td>\n",
       "    </tr>\n",
       "    <tr>\n",
       "      <th>32851</th>\n",
       "      <td>COL</td>\n",
       "      <td>South America</td>\n",
       "      <td>Colombia</td>\n",
       "      <td>2022-02-27</td>\n",
       "      <td>6062701.0</td>\n",
       "      <td>1908.0</td>\n",
       "      <td>2237.000</td>\n",
       "      <td>138693.0</td>\n",
       "      <td>95.0</td>\n",
       "      <td>83.857</td>\n",
       "      <td>...</td>\n",
       "      <td>4.7</td>\n",
       "      <td>13.5</td>\n",
       "      <td>65.386</td>\n",
       "      <td>1.71</td>\n",
       "      <td>77.29</td>\n",
       "      <td>0.767</td>\n",
       "      <td>NaN</td>\n",
       "      <td>NaN</td>\n",
       "      <td>NaN</td>\n",
       "      <td>NaN</td>\n",
       "    </tr>\n",
       "    <tr>\n",
       "      <th>32852</th>\n",
       "      <td>COL</td>\n",
       "      <td>South America</td>\n",
       "      <td>Colombia</td>\n",
       "      <td>2022-02-28</td>\n",
       "      <td>6064583.0</td>\n",
       "      <td>1882.0</td>\n",
       "      <td>2090.143</td>\n",
       "      <td>138767.0</td>\n",
       "      <td>74.0</td>\n",
       "      <td>80.286</td>\n",
       "      <td>...</td>\n",
       "      <td>4.7</td>\n",
       "      <td>13.5</td>\n",
       "      <td>65.386</td>\n",
       "      <td>1.71</td>\n",
       "      <td>77.29</td>\n",
       "      <td>0.767</td>\n",
       "      <td>NaN</td>\n",
       "      <td>NaN</td>\n",
       "      <td>NaN</td>\n",
       "      <td>NaN</td>\n",
       "    </tr>\n",
       "    <tr>\n",
       "      <th>32853</th>\n",
       "      <td>COL</td>\n",
       "      <td>South America</td>\n",
       "      <td>Colombia</td>\n",
       "      <td>2022-03-01</td>\n",
       "      <td>6065801.0</td>\n",
       "      <td>1218.0</td>\n",
       "      <td>1953.571</td>\n",
       "      <td>138854.0</td>\n",
       "      <td>87.0</td>\n",
       "      <td>81.286</td>\n",
       "      <td>...</td>\n",
       "      <td>4.7</td>\n",
       "      <td>13.5</td>\n",
       "      <td>65.386</td>\n",
       "      <td>1.71</td>\n",
       "      <td>77.29</td>\n",
       "      <td>0.767</td>\n",
       "      <td>NaN</td>\n",
       "      <td>NaN</td>\n",
       "      <td>NaN</td>\n",
       "      <td>NaN</td>\n",
       "    </tr>\n",
       "  </tbody>\n",
       "</table>\n",
       "<p>726 rows × 67 columns</p>\n",
       "</div>"
      ],
      "text/plain": [
       "      iso_code      continent  location        date  total_cases  new_cases  \\\n",
       "32128      COL  South America  Colombia  2020-03-06          1.0        1.0   \n",
       "32129      COL  South America  Colombia  2020-03-07          1.0        0.0   \n",
       "32130      COL  South America  Colombia  2020-03-08          1.0        0.0   \n",
       "32131      COL  South America  Colombia  2020-03-09          1.0        0.0   \n",
       "32132      COL  South America  Colombia  2020-03-10          3.0        2.0   \n",
       "...        ...            ...       ...         ...          ...        ...   \n",
       "32849      COL  South America  Colombia  2022-02-25    6058715.0     2159.0   \n",
       "32850      COL  South America  Colombia  2022-02-26    6060793.0     2078.0   \n",
       "32851      COL  South America  Colombia  2022-02-27    6062701.0     1908.0   \n",
       "32852      COL  South America  Colombia  2022-02-28    6064583.0     1882.0   \n",
       "32853      COL  South America  Colombia  2022-03-01    6065801.0     1218.0   \n",
       "\n",
       "       new_cases_smoothed  total_deaths  new_deaths  new_deaths_smoothed  ...  \\\n",
       "32128                 NaN           NaN         NaN                  NaN  ...   \n",
       "32129                 NaN           NaN         NaN                  NaN  ...   \n",
       "32130                 NaN           NaN         NaN                  NaN  ...   \n",
       "32131                 NaN           NaN         NaN                  NaN  ...   \n",
       "32132                 NaN           NaN         NaN                  NaN  ...   \n",
       "...                   ...           ...         ...                  ...  ...   \n",
       "32849            2793.143      138501.0        80.0               90.286  ...   \n",
       "32850            2447.429      138598.0        97.0               86.000  ...   \n",
       "32851            2237.000      138693.0        95.0               83.857  ...   \n",
       "32852            2090.143      138767.0        74.0               80.286  ...   \n",
       "32853            1953.571      138854.0        87.0               81.286  ...   \n",
       "\n",
       "       female_smokers  male_smokers  handwashing_facilities  \\\n",
       "32128             4.7          13.5                  65.386   \n",
       "32129             4.7          13.5                  65.386   \n",
       "32130             4.7          13.5                  65.386   \n",
       "32131             4.7          13.5                  65.386   \n",
       "32132             4.7          13.5                  65.386   \n",
       "...               ...           ...                     ...   \n",
       "32849             4.7          13.5                  65.386   \n",
       "32850             4.7          13.5                  65.386   \n",
       "32851             4.7          13.5                  65.386   \n",
       "32852             4.7          13.5                  65.386   \n",
       "32853             4.7          13.5                  65.386   \n",
       "\n",
       "       hospital_beds_per_thousand  life_expectancy  human_development_index  \\\n",
       "32128                        1.71            77.29                    0.767   \n",
       "32129                        1.71            77.29                    0.767   \n",
       "32130                        1.71            77.29                    0.767   \n",
       "32131                        1.71            77.29                    0.767   \n",
       "32132                        1.71            77.29                    0.767   \n",
       "...                           ...              ...                      ...   \n",
       "32849                        1.71            77.29                    0.767   \n",
       "32850                        1.71            77.29                    0.767   \n",
       "32851                        1.71            77.29                    0.767   \n",
       "32852                        1.71            77.29                    0.767   \n",
       "32853                        1.71            77.29                    0.767   \n",
       "\n",
       "       excess_mortality_cumulative_absolute  excess_mortality_cumulative  \\\n",
       "32128                                   NaN                          NaN   \n",
       "32129                                   NaN                          NaN   \n",
       "32130                                 543.2                         1.15   \n",
       "32131                                   NaN                          NaN   \n",
       "32132                                   NaN                          NaN   \n",
       "...                                     ...                          ...   \n",
       "32849                                   NaN                          NaN   \n",
       "32850                                   NaN                          NaN   \n",
       "32851                                   NaN                          NaN   \n",
       "32852                                   NaN                          NaN   \n",
       "32853                                   NaN                          NaN   \n",
       "\n",
       "       excess_mortality  excess_mortality_cumulative_per_million  \n",
       "32128               NaN                                      NaN  \n",
       "32129               NaN                                      NaN  \n",
       "32130             -1.48                                10.595749  \n",
       "32131               NaN                                      NaN  \n",
       "32132               NaN                                      NaN  \n",
       "...                 ...                                      ...  \n",
       "32849               NaN                                      NaN  \n",
       "32850               NaN                                      NaN  \n",
       "32851               NaN                                      NaN  \n",
       "32852               NaN                                      NaN  \n",
       "32853               NaN                                      NaN  \n",
       "\n",
       "[726 rows x 67 columns]"
      ]
     },
     "execution_count": 6,
     "metadata": {},
     "output_type": "execute_result"
    }
   ],
   "source": [
    "df_col = datos[datos.location == 'Colombia']\n",
    "df_col"
   ]
  },
  {
   "cell_type": "code",
   "execution_count": 8,
   "metadata": {
    "ExecuteTime": {
     "end_time": "2022-03-03T22:47:58.375800Z",
     "start_time": "2022-03-03T22:47:58.369849Z"
    }
   },
   "outputs": [
    {
     "data": {
      "text/plain": [
       "0"
      ]
     },
     "execution_count": 8,
     "metadata": {},
     "output_type": "execute_result"
    }
   ],
   "source": [
    "# Primer caso no nulo index\n",
    "df_col.total_cases.isnull().idxmin()-df_col.iloc[0].name"
   ]
  },
  {
   "cell_type": "code",
   "execution_count": 9,
   "metadata": {
    "ExecuteTime": {
     "end_time": "2022-03-03T22:48:58.785757Z",
     "start_time": "2022-03-03T22:48:58.769770Z"
    }
   },
   "outputs": [],
   "source": [
    "paises=datos['location'] #cargo el vector de paises\n",
    "confirmados=datos['total_cases'] #carga vector todos los casos confirmados"
   ]
  },
  {
   "cell_type": "code",
   "execution_count": 10,
   "metadata": {
    "ExecuteTime": {
     "end_time": "2022-03-03T22:49:06.508339Z",
     "start_time": "2022-03-03T22:49:06.369511Z"
    }
   },
   "outputs": [
    {
     "data": {
      "text/plain": [
       "Text(0, 0.5, 'cantidad de casos')"
      ]
     },
     "execution_count": 10,
     "metadata": {},
     "output_type": "execute_result"
    },
    {
     "data": {
      "image/png": "[encoded data removed]",
      "text/plain": [
       "<Figure size 1080x576 with 1 Axes>"
      ]
     },
     "metadata": {
      "needs_background": "light"
     },
     "output_type": "display_data"
    }
   ],
   "source": [
    "#seleccionamos China\n",
    "\n",
    "ind_arg=np.where(paises=='Colombia')\n",
    "ind_arg=ind_arg[0]\n",
    "casos_arg=confirmados[ind_arg]\n",
    "dias=np.arange(0,len(casos_arg))\n",
    "plt.figure(figsize = (15,8))\n",
    "plt.plot(dias,casos_arg)\n",
    "plt.xlabel('dias')\n",
    "plt.ylabel('cantidad de casos')"
   ]
  },
  {
   "cell_type": "code",
   "execution_count": 11,
   "metadata": {
    "ExecuteTime": {
     "end_time": "2022-03-03T22:53:22.752019Z",
     "start_time": "2022-03-03T22:53:22.650290Z"
    }
   },
   "outputs": [
    {
     "data": {
      "text/plain": [
       "Text(0, 0.5, 'log cantidad de casos')"
      ]
     },
     "execution_count": 11,
     "metadata": {},
     "output_type": "execute_result"
    },
    {
     "data": {
      "image/png": "[encoded data removed]",
      "text/plain": [
       "<Figure size 1080x576 with 1 Axes>"
      ]
     },
     "metadata": {
      "needs_background": "light"
     },
     "output_type": "display_data"
    }
   ],
   "source": [
    "plt.figure(figsize = (15,8))\n",
    "plt.plot(dias,np.log(casos_arg))\n",
    "plt.xlabel('dias')\n",
    "plt.ylabel('log cantidad de casos')"
   ]
  },
  {
   "cell_type": "code",
   "execution_count": null,
   "metadata": {},
   "outputs": [],
   "source": [
    "casos_principio=casos_arg[0:60]\n",
    "dias_principio=dias[0:60]\n",
    "\n",
    "plt.figure(figsize = (15,8))\n",
    "plt.plot(dias_principio,casos_principio)\n",
    "plt.xlabel('dias')\n",
    "plt.ylabel('cantidad de casos')"
   ]
  }
 ],
 "metadata": {
  "colab": {
   "name": "proyecto 4.ipynb",
   "provenance": []
  },
  "kernelspec": {
   "display_name": "Python 3",
   "language": "python",
   "name": "python3"
  },
  "language_info": {
   "codemirror_mode": {
    "name": "ipython",
    "version": 3
   },
   "file_extension": ".py",
   "mimetype": "text/x-python",
   "name": "python",
   "nbconvert_exporter": "python",
   "pygments_lexer": "ipython3",
   "version": "3.9.5"
  },
  "toc": {
   "base_numbering": 1,
   "nav_menu": {},
   "number_sections": true,
   "sideBar": true,
   "skip_h1_title": false,
   "title_cell": "Table of Contents",
   "title_sidebar": "Contents",
   "toc_cell": false,
   "toc_position": {},
   "toc_section_display": true,
   "toc_window_display": false
  },
  "varInspector": {
   "cols": {
    "lenName": 16,
    "lenType": 16,
    "lenVar": 40
   },
   "kernels_config": {
    "python": {
     "delete_cmd_postfix": "",
     "delete_cmd_prefix": "del ",
     "library": "var_list.py",
     "varRefreshCmd": "print(var_dic_list())"
    },
    "r": {
     "delete_cmd_postfix": ") ",
     "delete_cmd_prefix": "rm(",
     "library": "var_list.r",
     "varRefreshCmd": "cat(var_dic_list()) "
    }
   },
   "types_to_exclude": [
    "module",
    "function",
    "builtin_function_or_method",
    "instance",
    "_Feature"
   ],
   "window_display": false
  }
 },
 "nbformat": 4,
 "nbformat_minor": 1
}
